{
 "cells": [
  {
   "cell_type": "code",
   "execution_count": 1,
   "metadata": {},
   "outputs": [],
   "source": [
    "import pandas as pd\n",
    "import numpy as np\n",
    "# import local funcionts\n",
    "from functions import preprocessing_data, vip_criteria, last_time_vip, last_month_status"
   ]
  },
  {
   "cell_type": "code",
   "execution_count": 2,
   "metadata": {},
   "outputs": [],
   "source": [
    "import json\n",
    "with open(\"pur_list.json\", \"r\") as fp:\n",
    "     pur_list = json.load(fp)"
   ]
  },
  {
   "cell_type": "code",
   "execution_count": 4,
   "metadata": {},
   "outputs": [
    {
     "name": "stdout",
     "output_type": "stream",
     "text": [
      "2022-08-17 12:49:16.689252: starting preprocessing data\n",
      "2022-08-17 12:49:16.707393: data preproceded\n",
      "2022-08-17 12:49:16.707520: starting appliying criteria\n",
      "2022-08-17 12:49:16.708503: criteria applied\n",
      "Last time that a user was vip\n",
      "   user date_month  monthly_amount  last_monthly_amount last_month  vip\n",
      "0     1 2021-03-01          121.32               133.32 2021-02-01    1\n",
      "1     5 2021-02-01          140.29               132.61 2021-01-01    1\n",
      "Last month status\n",
      "   user date_month  monthly_amount  last_monthly_amount last_month  vip\n",
      "0     1 2021-05-01          121.32               121.32 2021-03-01    0\n",
      "1     2 2021-02-01           94.92                11.19 2021-01-01    0\n",
      "2     3 2021-02-01           15.18                88.69 2021-01-01    0\n",
      "3     4 2021-02-01           56.45                29.90 2020-12-01    0\n",
      "4     5 2021-02-01          140.29               132.61 2021-01-01    1\n",
      "5     6 2021-02-01           25.63                26.57 2021-01-01    0\n",
      "6     7 2021-02-01           22.40                18.10 2021-01-01    0\n",
      "7     8 2021-02-01           22.34               137.50 2021-01-01    0\n",
      "8     9 2021-02-01           25.05                34.43 2021-01-01    0\n",
      "9    10 2021-02-01           38.84                65.18 2021-01-01    0\n",
      "Users who where vip in their last month\n",
      "   user date_month  monthly_amount  last_monthly_amount last_month  vip\n",
      "4     5 2021-02-01          140.29               132.61 2021-01-01    1\n"
     ]
    }
   ],
   "source": [
    "\n",
    "# preprocessing data\n",
    "df_group = preprocessing_data (pur_list)\n",
    "# appliying criteria\n",
    "df_group = vip_criteria(df_group)\n",
    "\n",
    "# results\n",
    "print('Last time that a user was vip')\n",
    "print(last_time_vip(df_group))\n",
    "\n",
    "print('Last month status')\n",
    "print(last_month_status(df_group))\n",
    "\n",
    "print('Users who where vip in their last month')\n",
    "print(last_month_status(df_group)[last_month_status(df_group).vip==1])\n",
    "\n",
    "# instead of these prints the code could leave the different dataframes / lists in files (csv/parquet) or upload them to a dashboard [exercise comments]"
   ]
  }
 ],
 "metadata": {
  "kernelspec": {
   "display_name": "Python 3.9.0 64-bit",
   "language": "python",
   "name": "python3"
  },
  "language_info": {
   "codemirror_mode": {
    "name": "ipython",
    "version": 3
   },
   "file_extension": ".py",
   "mimetype": "text/x-python",
   "name": "python",
   "nbconvert_exporter": "python",
   "pygments_lexer": "ipython3",
   "version": "3.9.0"
  },
  "orig_nbformat": 2,
  "vscode": {
   "interpreter": {
    "hash": "aee8b7b246df8f9039afb4144a1f6fd8d2ca17a180786b69acc140d282b71a49"
   }
  }
 },
 "nbformat": 4,
 "nbformat_minor": 2
}
